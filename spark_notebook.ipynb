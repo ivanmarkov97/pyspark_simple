{
 "cells": [
  {
   "cell_type": "code",
   "execution_count": 1,
   "id": "welcome-reservoir",
   "metadata": {},
   "outputs": [],
   "source": [
    "import os\n",
    "\n",
    "from matplotlib import pyplot as plt\n",
    "\n",
    "from pyspark.sql import SparkSession\n",
    "from pyspark.sql import SQLContext"
   ]
  },
  {
   "cell_type": "code",
   "execution_count": 2,
   "id": "contrary-national",
   "metadata": {},
   "outputs": [
    {
     "data": {
      "text/plain": [
       "['main.py', 'in', 'spark_notebook.ipynb', 'venv', 'test.txt']"
      ]
     },
     "execution_count": 2,
     "metadata": {},
     "output_type": "execute_result"
    }
   ],
   "source": [
    "[file for file in os.listdir(os.getcwd()) if not file.startswith('.')]"
   ]
  },
  {
   "cell_type": "code",
   "execution_count": 3,
   "id": "finite-external",
   "metadata": {},
   "outputs": [],
   "source": [
    "sparkSession = SparkSession.builder \\\n",
    "    .master('local[*]') \\\n",
    "    .appName('pysparkTest') \\\n",
    "    .config('spark.executor.memory', '1gb') \\\n",
    "    .getOrCreate()\n",
    "\n",
    "sc = sparkSession.sparkContext\n",
    "sqlCtx = SQLContext(sc)"
   ]
  },
  {
   "cell_type": "code",
   "execution_count": 4,
   "id": "strategic-emergency",
   "metadata": {},
   "outputs": [],
   "source": [
    "rdd = sc.textFile('in/cal_housing.data')\n",
    "header = sc.textFile('in/cal_housing.domain')"
   ]
  },
  {
   "cell_type": "code",
   "execution_count": 5,
   "id": "political-interpretation",
   "metadata": {},
   "outputs": [
    {
     "name": "stdout",
     "output_type": "stream",
     "text": [
      "['-122.230000,37.880000,41.000000,880.000000,129.000000,322.000000,126.000000,8.325200,452600.000000']\n"
     ]
    }
   ],
   "source": [
    "haeder_str_repr = header.collect()\n",
    "print(rdd.take(1))"
   ]
  },
  {
   "cell_type": "code",
   "execution_count": 6,
   "id": "loaded-concord",
   "metadata": {},
   "outputs": [],
   "source": [
    "rdd = rdd.map(lambda v: v.split(','))"
   ]
  },
  {
   "cell_type": "code",
   "execution_count": 7,
   "id": "interested-citizen",
   "metadata": {},
   "outputs": [
    {
     "data": {
      "text/plain": [
       "[{'longitude: continuous.': '-122.230000',\n",
       "  'latitude: continuous.': '37.880000',\n",
       "  'housingMedianAge: continuous. ': '41.000000',\n",
       "  'totalRooms: continuous. ': '880.000000',\n",
       "  'totalBedrooms: continuous. ': '129.000000',\n",
       "  'population: continuous. ': '322.000000',\n",
       "  'households: continuous. ': '126.000000',\n",
       "  'medianIncome: continuous. ': '8.325200',\n",
       "  'medianHouseValue: continuous. ': '452600.000000'},\n",
       " {'longitude: continuous.': '-122.220000',\n",
       "  'latitude: continuous.': '37.860000',\n",
       "  'housingMedianAge: continuous. ': '21.000000',\n",
       "  'totalRooms: continuous. ': '7099.000000',\n",
       "  'totalBedrooms: continuous. ': '1106.000000',\n",
       "  'population: continuous. ': '2401.000000',\n",
       "  'households: continuous. ': '1138.000000',\n",
       "  'medianIncome: continuous. ': '8.301400',\n",
       "  'medianHouseValue: continuous. ': '358500.000000'}]"
      ]
     },
     "execution_count": 7,
     "metadata": {},
     "output_type": "execute_result"
    }
   ],
   "source": [
    "[dict(zip(haeder_str_repr, raw_data)) for raw_data in rdd.take(2)]"
   ]
  },
  {
   "cell_type": "code",
   "execution_count": 8,
   "id": "characteristic-attack",
   "metadata": {},
   "outputs": [],
   "source": [
    "from pyspark.sql import Row\n",
    "\n",
    "\n",
    "rdd = rdd.map(lambda v: Row(longitude=v[0], \n",
    "                            latitude=v[1], \n",
    "                            housingMedianAge=v[2], \n",
    "                            totalRooms=v[3],\n",
    "                            totalBedrooms=v[4], \n",
    "                            population=v[5], \n",
    "                            households=v[6], \n",
    "                            medianIncome=v[7], \n",
    "                            medianHouseValue=v[8]))"
   ]
  },
  {
   "cell_type": "code",
   "execution_count": 9,
   "id": "indonesian-hardware",
   "metadata": {},
   "outputs": [
    {
     "data": {
      "text/plain": [
       "Row(longitude='-122.230000', latitude='37.880000', housingMedianAge='41.000000', totalRooms='880.000000', totalBedrooms='129.000000', population='322.000000', households='126.000000', medianIncome='8.325200', medianHouseValue='452600.000000')"
      ]
     },
     "execution_count": 9,
     "metadata": {},
     "output_type": "execute_result"
    }
   ],
   "source": [
    "rdd.first()"
   ]
  },
  {
   "cell_type": "code",
   "execution_count": 10,
   "id": "quarterly-explanation",
   "metadata": {},
   "outputs": [
    {
     "name": "stdout",
     "output_type": "stream",
     "text": [
      "root\n",
      " |-- longitude: string (nullable = true)\n",
      " |-- latitude: string (nullable = true)\n",
      " |-- housingMedianAge: string (nullable = true)\n",
      " |-- totalRooms: string (nullable = true)\n",
      " |-- totalBedrooms: string (nullable = true)\n",
      " |-- population: string (nullable = true)\n",
      " |-- households: string (nullable = true)\n",
      " |-- medianIncome: string (nullable = true)\n",
      " |-- medianHouseValue: string (nullable = true)\n",
      "\n",
      "None\n",
      "+-----------+---------+----------------+-----------+-------------+-----------+-----------+------------+----------------+\n",
      "|  longitude| latitude|housingMedianAge| totalRooms|totalBedrooms| population| households|medianIncome|medianHouseValue|\n",
      "+-----------+---------+----------------+-----------+-------------+-----------+-----------+------------+----------------+\n",
      "|-122.230000|37.880000|       41.000000| 880.000000|   129.000000| 322.000000| 126.000000|    8.325200|   452600.000000|\n",
      "|-122.220000|37.860000|       21.000000|7099.000000|  1106.000000|2401.000000|1138.000000|    8.301400|   358500.000000|\n",
      "|-122.240000|37.850000|       52.000000|1467.000000|   190.000000| 496.000000| 177.000000|    7.257400|   352100.000000|\n",
      "|-122.250000|37.850000|       52.000000|1274.000000|   235.000000| 558.000000| 219.000000|    5.643100|   341300.000000|\n",
      "|-122.250000|37.850000|       52.000000|1627.000000|   280.000000| 565.000000| 259.000000|    3.846200|   342200.000000|\n",
      "|-122.250000|37.850000|       52.000000| 919.000000|   213.000000| 413.000000| 193.000000|    4.036800|   269700.000000|\n",
      "|-122.250000|37.840000|       52.000000|2535.000000|   489.000000|1094.000000| 514.000000|    3.659100|   299200.000000|\n",
      "|-122.250000|37.840000|       52.000000|3104.000000|   687.000000|1157.000000| 647.000000|    3.120000|   241400.000000|\n",
      "|-122.260000|37.840000|       42.000000|2555.000000|   665.000000|1206.000000| 595.000000|    2.080400|   226700.000000|\n",
      "|-122.250000|37.840000|       52.000000|3549.000000|   707.000000|1551.000000| 714.000000|    3.691200|   261100.000000|\n",
      "+-----------+---------+----------------+-----------+-------------+-----------+-----------+------------+----------------+\n",
      "only showing top 10 rows\n",
      "\n"
     ]
    }
   ],
   "source": [
    "df = rdd.toDF()\n",
    "print(df.printSchema())\n",
    "df.show(10)"
   ]
  },
  {
   "cell_type": "code",
   "execution_count": 11,
   "id": "intensive-contrast",
   "metadata": {},
   "outputs": [],
   "source": [
    "from pyspark.sql.types import FloatType\n",
    "\n",
    "\n",
    "def convert_columns(df, columns, custom_type):\n",
    "    for column in columns:\n",
    "        df = df.withColumn(column, df[column].cast(custom_type()))\n",
    "    return df"
   ]
  },
  {
   "cell_type": "code",
   "execution_count": 12,
   "id": "married-columbia",
   "metadata": {},
   "outputs": [
    {
     "name": "stdout",
     "output_type": "stream",
     "text": [
      "root\n",
      " |-- longitude: float (nullable = true)\n",
      " |-- latitude: float (nullable = true)\n",
      " |-- housingMedianAge: float (nullable = true)\n",
      " |-- totalRooms: float (nullable = true)\n",
      " |-- totalBedrooms: float (nullable = true)\n",
      " |-- population: float (nullable = true)\n",
      " |-- households: float (nullable = true)\n",
      " |-- medianIncome: float (nullable = true)\n",
      " |-- medianHouseValue: float (nullable = true)\n",
      "\n"
     ]
    }
   ],
   "source": [
    "df = convert_columns(df, df.columns, FloatType)\n",
    "df.printSchema()"
   ]
  },
  {
   "cell_type": "code",
   "execution_count": 13,
   "id": "wired-empire",
   "metadata": {},
   "outputs": [
    {
     "name": "stdout",
     "output_type": "stream",
     "text": [
      "+---------+--------+----------+----------+\n",
      "|longitude|latitude|population|totalRooms|\n",
      "+---------+--------+----------+----------+\n",
      "|  -122.23|   37.88|     322.0|     880.0|\n",
      "|  -122.22|   37.86|    2401.0|    7099.0|\n",
      "|  -122.24|   37.85|     496.0|    1467.0|\n",
      "|  -122.25|   37.85|     558.0|    1274.0|\n",
      "|  -122.25|   37.85|     565.0|    1627.0|\n",
      "|  -122.25|   37.85|     413.0|     919.0|\n",
      "|  -122.25|   37.84|    1094.0|    2535.0|\n",
      "|  -122.25|   37.84|    1157.0|    3104.0|\n",
      "|  -122.26|   37.84|    1206.0|    2555.0|\n",
      "|  -122.25|   37.84|    1551.0|    3549.0|\n",
      "+---------+--------+----------+----------+\n",
      "only showing top 10 rows\n",
      "\n"
     ]
    }
   ],
   "source": [
    "df.select('longitude', 'latitude', 'population', 'totalRooms').show(10)"
   ]
  },
  {
   "cell_type": "code",
   "execution_count": 14,
   "id": "constant-witness",
   "metadata": {},
   "outputs": [],
   "source": [
    "grouped_example = df.groupby('housingMedianAge').count().sort('housingMedianAge', ascending=True).take(100)"
   ]
  },
  {
   "cell_type": "code",
   "execution_count": 15,
   "id": "surprised-thermal",
   "metadata": {},
   "outputs": [
    {
     "data": {
      "text/plain": [
       "Text(0, 0.5, 'Median age')"
      ]
     },
     "execution_count": 15,
     "metadata": {},
     "output_type": "execute_result"
    },
    {
     "data": {
      "image/png": "[encoded data removed]",
      "text/plain": [
       "<Figure size 432x288 with 1 Axes>"
      ]
     },
     "metadata": {
      "needs_background": "light"
     },
     "output_type": "display_data"
    }
   ],
   "source": [
    "count = []\n",
    "median_age = []\n",
    "\n",
    "for row in grouped_example:\n",
    "    row_dict = row.asDict()\n",
    "    cnt = row_dict['count']\n",
    "    age = row_dict['housingMedianAge']\n",
    "    count.append(cnt)\n",
    "    median_age.append(age)\n",
    "    \n",
    "plt.scatter(count, median_age)\n",
    "plt.xlabel('Count')\n",
    "plt.ylabel('Median age')"
   ]
  },
  {
   "cell_type": "code",
   "execution_count": 16,
   "id": "aging-silly",
   "metadata": {},
   "outputs": [
    {
     "name": "stdout",
     "output_type": "stream",
     "text": [
      "Created tables:\n",
      "tmp_df\n"
     ]
    }
   ],
   "source": [
    "df.registerTempTable('tmp_df')\n",
    "print('Created tables:')\n",
    "print(' '.join([row.tableName for row in sqlCtx.tables().collect()]))\n",
    "\n",
    "_sql = \"\"\"\n",
    "select housingMedianAge, avg(totalRooms) as avg_rooms\n",
    "from tmp_df \n",
    "group by housingMedianAge \n",
    "order by avg_rooms\n",
    "\"\"\"\n",
    "\n",
    "tmp_df_grouped = sqlCtx.sql(_sql).take(100)"
   ]
  },
  {
   "cell_type": "code",
   "execution_count": 17,
   "id": "cultural-blank",
   "metadata": {},
   "outputs": [
    {
     "data": {
      "text/plain": [
       "Text(0, 0.5, 'Median age')"
      ]
     },
     "execution_count": 17,
     "metadata": {},
     "output_type": "execute_result"
    },
    {
     "data": {
      "image/png": "[encoded data removed]",
      "text/plain": [
       "<Figure size 432x288 with 1 Axes>"
      ]
     },
     "metadata": {
      "needs_background": "light"
     },
     "output_type": "display_data"
    }
   ],
   "source": [
    "avg_rooms = []\n",
    "median_age_2 = []\n",
    "\n",
    "for row in tmp_df_grouped:\n",
    "    row_dict = row.asDict()\n",
    "    avg_room = row_dict['avg_rooms']\n",
    "    age = row_dict['housingMedianAge']\n",
    "    avg_rooms.append(avg_room)\n",
    "    median_age_2.append(age)\n",
    "    \n",
    "plt.scatter(avg_rooms, median_age_2)\n",
    "plt.xlabel('avg_rooms')\n",
    "plt.ylabel('Median age')"
   ]
  },
  {
   "cell_type": "code",
   "execution_count": 18,
   "id": "chief-dominican",
   "metadata": {},
   "outputs": [
    {
     "name": "stdout",
     "output_type": "stream",
     "text": [
      "+-------+-------------------+------------------+------------------+------------------+-----------------+------------------+------------------+------------------+------------------+\n",
      "|summary|          longitude|          latitude|  housingMedianAge|        totalRooms|    totalBedrooms|        population|        households|      medianIncome|  medianHouseValue|\n",
      "+-------+-------------------+------------------+------------------+------------------+-----------------+------------------+------------------+------------------+------------------+\n",
      "|  count|              20640|             20640|             20640|             20640|            20640|             20640|             20640|             20640|             20640|\n",
      "|   mean|-119.56970444871473| 35.63186143109965|28.639486434108527|2635.7630813953488|537.8980135658915|1425.4767441860465| 499.5396802325581|3.8706710030346416|206855.81690891474|\n",
      "| stddev| 2.0035317429328914|2.1359523806029554|12.585557612111613|2181.6152515827994|421.2479059431315|1132.4621217653385|382.32975283161136|1.8998217183639672|115395.61587441381|\n",
      "|    min|            -124.35|             32.54|               1.0|               2.0|              1.0|               3.0|               1.0|            0.4999|           14999.0|\n",
      "|    max|            -114.31|             41.95|              52.0|           39320.0|           6445.0|           35682.0|            6082.0|           15.0001|          500001.0|\n",
      "+-------+-------------------+------------------+------------------+------------------+-----------------+------------------+------------------+------------------+------------------+\n",
      "\n"
     ]
    }
   ],
   "source": [
    "df.describe().show()"
   ]
  },
  {
   "cell_type": "code",
   "execution_count": 19,
   "id": "printable-retro",
   "metadata": {},
   "outputs": [],
   "source": [
    "from pyspark.sql.functions import col\n",
    "\n",
    "\n",
    "def transform_target(df, column_name):\n",
    "    df = df.withColumn(column_name, col(column_name) / 100000)\n",
    "    return df\n",
    "\n",
    "df = transform_target(df, 'medianHouseValue')"
   ]
  },
  {
   "cell_type": "code",
   "execution_count": 20,
   "id": "explicit-grace",
   "metadata": {},
   "outputs": [],
   "source": [
    "def feature_engineering(df):\n",
    "    df = df.withColumn('RoomsPerHousehold', col('totalRooms') / col('households'))\n",
    "    df = df.withColumn('PopulationPerHousehold', col('population') / col('households'))\n",
    "    df = df.withColumn('bedroomsPerRoom', col('totalBedrooms') / col('totalRooms'))\n",
    "    return df\n",
    "\n",
    "df = feature_engineering(df)"
   ]
  },
  {
   "cell_type": "code",
   "execution_count": 21,
   "id": "sacred-vietnamese",
   "metadata": {},
   "outputs": [
    {
     "data": {
      "text/plain": [
       "Row(longitude=-122.2300033569336, latitude=37.880001068115234, housingMedianAge=41.0, totalRooms=880.0, totalBedrooms=129.0, population=322.0, households=126.0, medianIncome=8.325200080871582, medianHouseValue=4.526, RoomsPerHousehold=6.984126984126984, PopulationPerHousehold=2.5555555555555554, bedroomsPerRoom=0.14659090909090908)"
      ]
     },
     "execution_count": 21,
     "metadata": {},
     "output_type": "execute_result"
    }
   ],
   "source": [
    "df.first()"
   ]
  },
  {
   "cell_type": "code",
   "execution_count": 22,
   "id": "digital-analyst",
   "metadata": {},
   "outputs": [],
   "source": [
    "from pyspark.ml.linalg import DenseVector\n",
    "from pyspark.ml.feature import StandardScaler\n",
    "\n",
    "\n",
    "def create_feature_df(df, target_column, feature_column):\n",
    "    tmp_df = df.rdd.map(lambda v: (v[0], DenseVector(v[1:])))\n",
    "    return sparkSession.createDataFrame(tmp_df, [target_column, feature_column])\n",
    "\n",
    "df = df.select(\"medianHouseValue\", \n",
    "               \"totalBedRooms\", \n",
    "               \"population\", \n",
    "               \"households\", \n",
    "               \"medianIncome\", \n",
    "               \"roomsPerHousehold\", \n",
    "               \"populationPerHousehold\", \n",
    "               \"bedroomsPerRoom\")\n",
    "\n",
    "df_features = create_feature_df(df, 'label', 'features')\n",
    "\n",
    "scaler = StandardScaler(inputCol='features', outputCol='features_scaled')\n",
    "scaler = scaler.fit(df_features)\n",
    "scaled_df = scaler.transform(df_features)"
   ]
  },
  {
   "cell_type": "code",
   "execution_count": 23,
   "id": "neutral-advocacy",
   "metadata": {},
   "outputs": [
    {
     "data": {
      "text/plain": [
       "[Row(label=4.526, features=DenseVector([129.0, 322.0, 126.0, 8.3252, 6.9841, 2.5556, 0.1466]), features_scaled=DenseVector([0.3062, 0.2843, 0.3296, 4.3821, 2.8228, 0.2461, 2.5264])),\n",
       " Row(label=3.585, features=DenseVector([1106.0, 2401.0, 1138.0, 8.3014, 6.2381, 2.1098, 0.1558]), features_scaled=DenseVector([2.6255, 2.1202, 2.9765, 4.3696, 2.5213, 0.2031, 2.6851]))]"
      ]
     },
     "execution_count": 23,
     "metadata": {},
     "output_type": "execute_result"
    }
   ],
   "source": [
    "scaled_df.take(2)"
   ]
  },
  {
   "cell_type": "code",
   "execution_count": 24,
   "id": "looking-trailer",
   "metadata": {},
   "outputs": [],
   "source": [
    "train_data, test_data = scaled_df.randomSplit([0.8, 0.2], seed=241)"
   ]
  },
  {
   "cell_type": "code",
   "execution_count": 25,
   "id": "solar-convenience",
   "metadata": {},
   "outputs": [],
   "source": [
    "from pyspark.ml.regression import LinearRegression\n",
    "\n",
    "\n",
    "lr = LinearRegression(labelCol='label', maxIter=10, regParam=0.3, elasticNetParam=0.8)\n",
    "lr_model = lr.fit(train_data)"
   ]
  },
  {
   "cell_type": "code",
   "execution_count": 26,
   "id": "brutal-bruce",
   "metadata": {},
   "outputs": [],
   "source": [
    "predicted = lr_model.transform(test_data)\n",
    "\n",
    "predictions = predicted.select('prediction').rdd.map(lambda v: v[0])\n",
    "labels = predicted.select('label').rdd.map(lambda v: v[0])\n",
    "predictionAndLabels = predictions.zip(labels).collect()"
   ]
  },
  {
   "cell_type": "code",
   "execution_count": 27,
   "id": "romantic-truth",
   "metadata": {},
   "outputs": [
    {
     "data": {
      "text/plain": [
       "(DenseVector([0.0, 0.0, 0.0, 0.2762, 0.0, 0.0, 0.0]), 0.9971345642388065)"
      ]
     },
     "execution_count": 27,
     "metadata": {},
     "output_type": "execute_result"
    }
   ],
   "source": [
    "lr_model.coefficients, lr_model.intercept"
   ]
  },
  {
   "cell_type": "code",
   "execution_count": 28,
   "id": "million-fields",
   "metadata": {},
   "outputs": [
    {
     "data": {
      "text/plain": [
       "(0.8784352338681621, 0.4178893866096517)"
      ]
     },
     "execution_count": 28,
     "metadata": {},
     "output_type": "execute_result"
    }
   ],
   "source": [
    "lr_model.summary.rootMeanSquaredError, lr_model.summary.r2"
   ]
  },
  {
   "cell_type": "code",
   "execution_count": null,
   "id": "western-earthquake",
   "metadata": {},
   "outputs": [],
   "source": []
  }
 ],
 "metadata": {
  "kernelspec": {
   "display_name": "Python 3",
   "language": "python",
   "name": "python3"
  },
  "language_info": {
   "codemirror_mode": {
    "name": "ipython",
    "version": 3
   },
   "file_extension": ".py",
   "mimetype": "text/x-python",
   "name": "python",
   "nbconvert_exporter": "python",
   "pygments_lexer": "ipython3",
   "version": "3.8.5"
  }
 },
 "nbformat": 4,
 "nbformat_minor": 5
}
