{
 "cells": [
  {
   "cell_type": "code",
   "execution_count": 1,
   "id": "exact-mileage",
   "metadata": {},
   "outputs": [],
   "source": [
    "import os\n",
    "\n",
    "from pyspark import SparkConf\n",
    "from pyspark import SparkContext\n",
    "from pyspark.sql import SQLContext\n",
    "from pyspark.sql.types import FloatType, StringType, StructType, StructField\n",
    "from pyspark.ml.linalg import DenseVector\n",
    "from pyspark.ml.clustering import KMeans\n",
    "from pyspark.ml.feature import OneHotEncoder, VectorAssembler, StandardScaler\n",
    "from pyspark.ml.regression import RandomForestRegressor\n",
    "from pyspark.ml.evaluation import RegressionEvaluator\n",
    "\n",
    "import pyspark.ml.stat as stat\n",
    "import pyspark.sql.functions as F\n",
    "\n",
    "from matplotlib import pyplot as plt"
   ]
  },
  {
   "cell_type": "code",
   "execution_count": 2,
   "id": "pretty-hello",
   "metadata": {},
   "outputs": [],
   "source": [
    "conf = SparkConf().setMaster('local[*]').setAppName('MLTest')\n",
    "sc = SparkContext(conf=conf).getOrCreate()\n",
    "sqlContext = SQLContext(sc)"
   ]
  },
  {
   "cell_type": "code",
   "execution_count": 3,
   "id": "known-fruit",
   "metadata": {},
   "outputs": [
    {
     "name": "stdout",
     "output_type": "stream",
     "text": [
      "cal_housing.data\n",
      "cal_housing.domain\n"
     ]
    }
   ],
   "source": [
    "for file in os.listdir(os.getcwd() + '/in'):\n",
    "    if 'housing' in file:\n",
    "        print(file)"
   ]
  },
  {
   "cell_type": "code",
   "execution_count": 4,
   "id": "sporting-closure",
   "metadata": {},
   "outputs": [],
   "source": [
    "data = sc.textFile('in/cal_housing.data')\n",
    "headers = sc.textFile('in/cal_housing.domain')\n",
    "\n",
    "data = data.map(lambda v: v.split(','))\n",
    "headers = [header.split(':')[0] for header in headers.collect()]\n",
    "\n",
    "schema = StructType([StructField(header, StringType(), True)\n",
    "                     for header in headers])\n",
    "\n",
    "df = sqlContext.createDataFrame(data, schema)"
   ]
  },
  {
   "cell_type": "code",
   "execution_count": 5,
   "id": "mineral-intensity",
   "metadata": {},
   "outputs": [
    {
     "data": {
      "text/plain": [
       "Row(longitude=-122.2300033569336, latitude=37.880001068115234, housingMedianAge=41.0, totalRooms=880.0, totalBedrooms=129.0, population=322.0, households=126.0, medianIncome=8.325200080871582, medianHouseValue=452600.0)"
      ]
     },
     "execution_count": 5,
     "metadata": {},
     "output_type": "execute_result"
    }
   ],
   "source": [
    "def convert_to_float(df, columns):\n",
    "    for column in columns:\n",
    "        df = df.withColumn(column, df[column].cast(FloatType()))\n",
    "    return df\n",
    "\n",
    "df = convert_to_float(df, df.columns)\n",
    "df.first()"
   ]
  },
  {
   "cell_type": "code",
   "execution_count": 6,
   "id": "controlling-sailing",
   "metadata": {},
   "outputs": [
    {
     "name": "stdout",
     "output_type": "stream",
     "text": [
      "root\n",
      " |-- longitude: float (nullable = true)\n",
      " |-- latitude: float (nullable = true)\n",
      " |-- housingMedianAge: float (nullable = true)\n",
      " |-- totalRooms: float (nullable = true)\n",
      " |-- totalBedrooms: float (nullable = true)\n",
      " |-- population: float (nullable = true)\n",
      " |-- households: float (nullable = true)\n",
      " |-- medianIncome: float (nullable = true)\n",
      " |-- medianHouseValue: float (nullable = true)\n",
      "\n"
     ]
    }
   ],
   "source": [
    "df.printSchema()"
   ]
  },
  {
   "cell_type": "code",
   "execution_count": 7,
   "id": "placed-bachelor",
   "metadata": {},
   "outputs": [
    {
     "data": {
      "text/plain": [
       "{'longitude': (-122.4800033569336, -117.08999633789062),\n",
       " 'latitude': (32.79999923706055, 38.75),\n",
       " 'housingMedianAge': (8.0, 52.0),\n",
       " 'totalRooms': (567.0, 5805.0),\n",
       " 'totalBedrooms': (129.0, 1192.0),\n",
       " 'population': (337.0, 3108.0),\n",
       " 'households': (119.0, 1093.0),\n",
       " 'medianIncome': (1.6197999715805054, 6.9532999992370605),\n",
       " 'medianHouseValue': (66000.0, 454300.0)}"
      ]
     },
     "execution_count": 7,
     "metadata": {},
     "output_type": "execute_result"
    }
   ],
   "source": [
    "quantiles = df.approxQuantile(df.columns, [0.05, 0.95], 0.01)\n",
    "\n",
    "borders = {column: (quantiles[pos][0], quantiles[pos][1]) \n",
    "           for pos, column in enumerate(df.columns)}\n",
    "borders"
   ]
  },
  {
   "cell_type": "code",
   "execution_count": 8,
   "id": "foreign-transmission",
   "metadata": {},
   "outputs": [],
   "source": [
    "def feature_engineering(df, target_column):\n",
    "    columns = df.columns\n",
    "    if target_column in columns:\n",
    "        columns.remove(target_column)\n",
    "    \n",
    "    for column in columns:\n",
    "        df = df.withColumn(column + '_IsOutBound', F.col(column).between(borders[column][0], borders[column][1]))\n",
    "        df = df.withColumn(column + '_IsOutBound', F.col(column + '_IsOutBound').cast(FloatType()))\n",
    "    \n",
    "    df = df.withColumn('PopulationPerRooms', F.col('population') / F.col('totalRooms'))\n",
    "    df = df.withColumn('PopulationPerHouseholds', F.col('population') / F.col('households'))\n",
    "    df = df.withColumn('RoomsPerHousehold', F.col('totalRooms') / F.col('households'))\n",
    "    df = df.withColumn('BedroomsPerRoom', F.col('totalBedrooms') / F.col('totalRooms'))\n",
    "    \n",
    "    df = df.withColumn(target_column, F.col(target_column) / 100000)\n",
    "    return df\n",
    "\n",
    "df = feature_engineering(df, target_column='medianHouseValue')"
   ]
  },
  {
   "cell_type": "code",
   "execution_count": 9,
   "id": "exposed-spank",
   "metadata": {},
   "outputs": [
    {
     "data": {
      "text/plain": [
       "Row(longitude=-122.2300033569336, latitude=37.880001068115234, housingMedianAge=41.0, totalRooms=880.0, totalBedrooms=129.0, population=322.0, households=126.0, medianIncome=8.325200080871582, medianHouseValue=4.526, longitude_IsOutBound=1.0, latitude_IsOutBound=1.0, housingMedianAge_IsOutBound=1.0, totalRooms_IsOutBound=1.0, totalBedrooms_IsOutBound=1.0, population_IsOutBound=0.0, households_IsOutBound=1.0, medianIncome_IsOutBound=0.0, PopulationPerRooms=0.3659090909090909, PopulationPerHouseholds=2.5555555555555554, RoomsPerHousehold=6.984126984126984, BedroomsPerRoom=0.14659090909090908)"
      ]
     },
     "execution_count": 9,
     "metadata": {},
     "output_type": "execute_result"
    }
   ],
   "source": [
    "df.first()"
   ]
  },
  {
   "cell_type": "code",
   "execution_count": 10,
   "id": "optimum-exhibit",
   "metadata": {},
   "outputs": [],
   "source": [
    "target_columns = 'medianHouseValue'\n",
    "columns = df.columns\n",
    "if target_columns in columns:\n",
    "    columns.remove(target_columns)\n",
    "\n",
    "columns = [target_columns] + columns"
   ]
  },
  {
   "cell_type": "code",
   "execution_count": 11,
   "id": "municipal-image",
   "metadata": {},
   "outputs": [
    {
     "data": {
      "text/plain": [
       "Row(medianHouseValue=4.526, longitude=-122.2300033569336, latitude=37.880001068115234, housingMedianAge=41.0, totalRooms=880.0, totalBedrooms=129.0, population=322.0, households=126.0, medianIncome=8.325200080871582, longitude_IsOutBound=1.0, latitude_IsOutBound=1.0, housingMedianAge_IsOutBound=1.0, totalRooms_IsOutBound=1.0, totalBedrooms_IsOutBound=1.0, population_IsOutBound=0.0, households_IsOutBound=1.0, medianIncome_IsOutBound=0.0, PopulationPerRooms=0.3659090909090909, PopulationPerHouseholds=2.5555555555555554, RoomsPerHousehold=6.984126984126984, BedroomsPerRoom=0.14659090909090908)"
      ]
     },
     "execution_count": 11,
     "metadata": {},
     "output_type": "execute_result"
    }
   ],
   "source": [
    "df = df.select(columns)\n",
    "df.first()"
   ]
  },
  {
   "cell_type": "code",
   "execution_count": 12,
   "id": "complete-paradise",
   "metadata": {},
   "outputs": [
    {
     "data": {
      "text/plain": [
       "Row(label=4.526, features=DenseVector([-122.23, 37.88, 41.0, 880.0, 129.0, 322.0, 126.0, 8.3252, 1.0, 1.0, 1.0, 1.0, 1.0, 0.0, 1.0, 0.0, 0.3659, 2.5556, 6.9841, 0.1466]))"
      ]
     },
     "execution_count": 12,
     "metadata": {},
     "output_type": "execute_result"
    }
   ],
   "source": [
    "def create_feature_vector(df):\n",
    "    input_data = df.rdd.map(lambda v: (v[0], DenseVector(v[1:])))\n",
    "    df_total = sqlContext.createDataFrame(input_data, ['label', 'features'])\n",
    "    return df_total\n",
    "\n",
    "df_total = create_feature_vector(df)\n",
    "df_total.first()"
   ]
  },
  {
   "cell_type": "code",
   "execution_count": 13,
   "id": "colored-terrain",
   "metadata": {},
   "outputs": [
    {
     "data": {
      "image/png": "[encoded data removed]",
      "text/plain": [
       "<Figure size 720x720 with 2 Axes>"
      ]
     },
     "metadata": {
      "needs_background": "light"
     },
     "output_type": "display_data"
    }
   ],
   "source": [
    "corr_result = stat.Correlation.corr(df_total, 'features')\n",
    "\n",
    "plt.figure(figsize=(10, 10))\n",
    "plt.imshow(corr_result.head()[0].toArray())\n",
    "plt.xticks(range(len(df.columns) - 1), df.columns[1:], rotation=90)\n",
    "plt.yticks(range(len(df.columns) - 1), df.columns[1:])\n",
    "_ = plt.colorbar()"
   ]
  },
  {
   "cell_type": "code",
   "execution_count": 14,
   "id": "material-disclosure",
   "metadata": {},
   "outputs": [
    {
     "name": "stdout",
     "output_type": "stream",
     "text": [
      "Train size: 16539\n",
      "Test size: 4101\n"
     ]
    }
   ],
   "source": [
    "df_train, df_test = df_total.randomSplit([0.8, 0.2], seed=241)\n",
    "\n",
    "print(f'Train size: {df_train.count()}')\n",
    "print(f'Test size: {df_test.count()}')"
   ]
  },
  {
   "cell_type": "code",
   "execution_count": 15,
   "id": "korean-friday",
   "metadata": {},
   "outputs": [],
   "source": [
    "scaler = StandardScaler(withMean=True, withStd=True, inputCol='features', outputCol='scaled_features')\n",
    "scaler = scaler.fit(df_train)\n",
    "\n",
    "df_train = scaler.transform(df_train)\n",
    "df_test = scaler.transform(df_test)"
   ]
  },
  {
   "cell_type": "code",
   "execution_count": 16,
   "id": "defensive-polymer",
   "metadata": {},
   "outputs": [],
   "source": [
    "kmeans = KMeans(k=10, featuresCol='scaled_features', predictionCol='kmeans_prediction')\n",
    "kmeans = kmeans.fit(df_train)"
   ]
  },
  {
   "cell_type": "code",
   "execution_count": 17,
   "id": "strong-deposit",
   "metadata": {},
   "outputs": [],
   "source": [
    "df_train = kmeans.transform(df_train)\n",
    "df_test = kmeans.transform(df_test)"
   ]
  },
  {
   "cell_type": "code",
   "execution_count": 18,
   "id": "instrumental-remark",
   "metadata": {},
   "outputs": [],
   "source": [
    "one_hot_encoder = OneHotEncoder(inputCols=['kmeans_prediction'], outputCols=['one_hot_kmeans'])\n",
    "one_hot_encoder = one_hot_encoder.fit(df_train)"
   ]
  },
  {
   "cell_type": "code",
   "execution_count": 19,
   "id": "complex-cancer",
   "metadata": {},
   "outputs": [],
   "source": [
    "df_train = one_hot_encoder.transform(df_train)\n",
    "df_test = one_hot_encoder.transform(df_test)"
   ]
  },
  {
   "cell_type": "code",
   "execution_count": 20,
   "id": "varied-transmission",
   "metadata": {},
   "outputs": [],
   "source": [
    "assembler = VectorAssembler(inputCols=['scaled_features', 'one_hot_kmeans'], outputCol='all_features')\n",
    "df_train = assembler.transform(df_train)\n",
    "df_test = assembler.transform(df_test)"
   ]
  },
  {
   "cell_type": "code",
   "execution_count": 21,
   "id": "round-power",
   "metadata": {},
   "outputs": [],
   "source": [
    "regressor = RandomForestRegressor(featuresCol='all_features', \n",
    "                                  labelCol='label',\n",
    "                                  predictionCol='prediction', \n",
    "                                  maxDepth=6, \n",
    "                                  numTrees=100,\n",
    "                                  seed=241)\n",
    "\n",
    "regressor = regressor.fit(df_train)\n",
    "prediction = regressor.transform(df_test)"
   ]
  },
  {
   "cell_type": "code",
   "execution_count": 22,
   "id": "mysterious-graphics",
   "metadata": {},
   "outputs": [
    {
     "name": "stdout",
     "output_type": "stream",
     "text": [
      "+-----+------------------+\n",
      "|label|        prediction|\n",
      "+-----+------------------+\n",
      "|0.175| 2.145963974914629|\n",
      "|0.266|1.0699973419951805|\n",
      "|0.367|0.8745357969731883|\n",
      "|0.375|2.0908229792124815|\n",
      "|0.375|0.9880873578792695|\n",
      "|0.388|1.0175972720590907|\n",
      "|0.392|  1.01356147526297|\n",
      "|0.438|0.9826644690361378|\n",
      "| 0.44|0.9159971131872199|\n",
      "|0.444|0.9117345295960746|\n",
      "|0.445| 0.913476389164555|\n",
      "|0.466| 0.913476389164555|\n",
      "|0.469|1.0083426921078094|\n",
      "|0.475| 0.910627502026813|\n",
      "|0.475|1.2096813013210586|\n",
      "|0.475|2.7446844533344836|\n",
      "|0.477|1.1152854697011336|\n",
      "|0.485|0.9495337442836219|\n",
      "|0.489|0.9595340232967279|\n",
      "| 0.49|0.9140699649393618|\n",
      "+-----+------------------+\n",
      "only showing top 20 rows\n",
      "\n"
     ]
    }
   ],
   "source": [
    "prediction.select('label', 'prediction').show(20)"
   ]
  },
  {
   "cell_type": "code",
   "execution_count": 23,
   "id": "surgical-blood",
   "metadata": {},
   "outputs": [
    {
     "name": "stdout",
     "output_type": "stream",
     "text": [
      "0.662209232375758 0.4791145282089673\n"
     ]
    }
   ],
   "source": [
    "rmse_evaluator = RegressionEvaluator(labelCol='label', predictionCol='prediction', metricName='rmse')\n",
    "mae_evaluator = RegressionEvaluator(labelCol='label', predictionCol='prediction', metricName='mae')\n",
    "\n",
    "rmse = rmse_evaluator.evaluate(prediction)\n",
    "mae = mae_evaluator.evaluate(prediction)\n",
    "\n",
    "print(rmse, mae)"
   ]
  },
  {
   "cell_type": "code",
   "execution_count": null,
   "id": "outstanding-spread",
   "metadata": {},
   "outputs": [],
   "source": []
  }
 ],
 "metadata": {
  "kernelspec": {
   "display_name": "Python 3",
   "language": "python",
   "name": "python3"
  },
  "language_info": {
   "codemirror_mode": {
    "name": "ipython",
    "version": 3
   },
   "file_extension": ".py",
   "mimetype": "text/x-python",
   "name": "python",
   "nbconvert_exporter": "python",
   "pygments_lexer": "ipython3",
   "version": "3.8.5"
  }
 },
 "nbformat": 4,
 "nbformat_minor": 5
}
